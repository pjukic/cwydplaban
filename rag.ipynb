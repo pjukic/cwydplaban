{
 "cells": [
  {
   "cell_type": "code",
   "execution_count": null,
   "metadata": {},
   "outputs": [],
   "source": [
    "!pip install chromadb\n",
    "!pip install langchain\n",
    "!pip install BeautifulSoup4\n",
    "!pip install gpt4all\n",
    "!pip install langchainhub\n",
    "!pip install pypdf\n",
    "!pip install chainlit"
   ]
  },
  {
   "cell_type": "code",
   "execution_count": null,
   "metadata": {},
   "outputs": [],
   "source": [
    "!pip install langchain_community"
   ]
  },
  {
   "cell_type": "code",
   "execution_count": 20,
   "metadata": {},
   "outputs": [
    {
     "name": "stdout",
     "output_type": "stream",
     "text": [
      "/usr/local/opt/miniforge3/envs/llm39arm/lib/python3.9/site-packages/pydantic/_internal/_fields.py:132: UserWarning: Field \"model_name\" in GPT4AllEmbeddings has conflict with protected namespace \"model_\".\n",
      "\n",
      "You may be able to resolve this warning by setting `model_config['protected_namespaces'] = ()`.\n",
      "  warnings.warn(\n",
      "Processed 80 pdf files\n",
      "/Users/pjukic/Library/Mobile Documents/com~apple~CloudDocs/iData/project/LLM/docker/plaban_rag/load_data_vdb.py:21: LangChainDeprecationWarning: Since Chroma 0.4.x the manual persistence method is no longer supported as docs are automatically persisted.\n",
      "  vectorstore.persist()\n"
     ]
    }
   ],
   "source": [
    "!python load_data_vdb.py"
   ]
  },
  {
   "cell_type": "code",
   "execution_count": 21,
   "metadata": {},
   "outputs": [
    {
     "name": "stderr",
     "output_type": "stream",
     "text": [
      "/usr/local/opt/miniforge3/envs/llm39arm/lib/python3.9/site-packages/langsmith/client.py:354: LangSmithMissingAPIKeyWarning: API key must be provided when using hosted LangSmith API\n",
      "  warnings.warn(\n"
     ]
    }
   ],
   "source": [
    "#import required dependencies\n",
    "from langchain import hub\n",
    "from langchain.embeddings import GPT4AllEmbeddings\n",
    "from langchain.vectorstores import Chroma\n",
    "from langchain.llms import Ollama\n",
    "from langchain.callbacks.manager import CallbackManager\n",
    "from langchain.callbacks.streaming_stdout import StreamingStdOutCallbackHandler\n",
    "import chainlit as cl\n",
    "from langchain.chains import RetrievalQA,RetrievalQAWithSourcesChain\n",
    "# Set up RetrievelQA model\n",
    "QA_CHAIN_PROMPT = hub.pull(\"rlm/rag-prompt-mistral\")\n",
    "\n",
    "#load the LLM\n",
    "def load_llm():\n",
    " llm = Ollama(\n",
    " model=\"mistral\",\n",
    " verbose=True,\n",
    " callback_manager=CallbackManager([StreamingStdOutCallbackHandler()]),\n",
    " )\n",
    " return llm\n",
    "\n",
    "\n",
    "def retrieval_qa_chain(llm,vectorstore):\n",
    " qa_chain = RetrievalQA.from_chain_type(\n",
    "    llm,\n",
    "    retriever=vectorstore.as_retriever(),\n",
    "    chain_type_kwargs={\"prompt\": QA_CHAIN_PROMPT},\n",
    "    return_source_documents=True,\n",
    ")\n",
    " return qa_chain\n",
    "\n",
    "\n",
    "def qa_bot(): \n",
    " llm=load_llm() \n",
    " DB_PATH = \"vectorstores/db/\"\n",
    " vectorstore = Chroma(persist_directory=DB_PATH, embedding_function=GPT4AllEmbeddings())\n",
    "\n",
    " qa = retrieval_qa_chain(llm,vectorstore)\n",
    " return qa \n",
    "\n",
    "@cl.on_chat_start\n",
    "async def start():\n",
    " chain=qa_bot()\n",
    " msg=cl.Message(content=\"Firing up the research info bot...\")\n",
    " await msg.send()\n",
    " msg.content= \"Hi, welcome to research info bot. What is your query?\"\n",
    " await msg.update()\n",
    " cl.user_session.set(\"chain\",chain)\n",
    "\n",
    "@cl.on_message\n",
    "async def main(message):\n",
    " chain=cl.user_session.get(\"chain\")\n",
    " cb = cl.AsyncLangchainCallbackHandler(\n",
    " stream_final_answer=True,\n",
    " answer_prefix_tokens=[\"FINAL\", \"ANSWER\"]\n",
    " )\n",
    " cb.answer_reached=True\n",
    " # res=await chain.acall(message, callbacks=[cb])\n",
    " res=await chain.acall(message.content, callbacks=[cb])\n",
    " print(f\"response: {res}\")\n",
    " answer=res[\"result\"]\n",
    " answer=answer.replace(\".\",\".\\n\")\n",
    " sources=res[\"source_documents\"]\n",
    "\n",
    " if sources:\n",
    "  answer+=f\"\\nSources: \"+str(str(sources))\n",
    " else:\n",
    "  answer+=f\"\\nNo Sources found\"\n",
    "\n",
    " await cl.Message(content=answer).send()\n"
   ]
  },
  {
   "cell_type": "code",
   "execution_count": null,
   "metadata": {},
   "outputs": [],
   "source": [
    "!chainlit run RAG.py --port 8020"
   ]
  },
  {
   "cell_type": "code",
   "execution_count": null,
   "metadata": {},
   "outputs": [],
   "source": [
    "!pip install -U langchain-community\n"
   ]
  },
  {
   "cell_type": "code",
   "execution_count": 24,
   "metadata": {},
   "outputs": [
    {
     "name": "stdout",
     "output_type": "stream",
     "text": [
      "NAME                    ID              SIZE     PROCESSOR    UNTIL              \n",
      "mistral-small:latest    d095cd553b04    15 GB    100% CPU     4 minutes from now    \n"
     ]
    }
   ],
   "source": [
    "!ollama ps"
   ]
  },
  {
   "cell_type": "code",
   "execution_count": 25,
   "metadata": {},
   "outputs": [
    {
     "name": "stdout",
     "output_type": "stream",
     "text": [
      "/Users/pjukic/Library/Mobile Documents/com~apple~CloudDocs/iData/project/LLM/docker/plaban_rag\n"
     ]
    }
   ],
   "source": [
    "!pwd"
   ]
  }
 ],
 "metadata": {
  "kernelspec": {
   "display_name": "llm39arm",
   "language": "python",
   "name": "python3"
  },
  "language_info": {
   "codemirror_mode": {
    "name": "ipython",
    "version": 3
   },
   "file_extension": ".py",
   "mimetype": "text/x-python",
   "name": "python",
   "nbconvert_exporter": "python",
   "pygments_lexer": "ipython3",
   "version": "3.9.20"
  }
 },
 "nbformat": 4,
 "nbformat_minor": 2
}
